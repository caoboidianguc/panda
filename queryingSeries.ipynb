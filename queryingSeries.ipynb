{
 "cells": [
  {
   "cell_type": "code",
   "execution_count": 1,
   "metadata": {},
   "outputs": [
    {
     "data": {
      "text/plain": [
       "0     linh\n",
       "1     hibi\n",
       "2    Quang\n",
       "dtype: object"
      ]
     },
     "execution_count": 1,
     "metadata": {},
     "output_type": "execute_result"
    }
   ],
   "source": [
    "import pandas as pd\n",
    "\n",
    "giadinh = ['linh', 'hibi', 'Quang']\n",
    "pd.Series(giadinh)"
   ]
  },
  {
   "cell_type": "code",
   "execution_count": 2,
   "metadata": {},
   "outputs": [
    {
     "data": {
      "text/plain": [
       "0     (Thong, vu)\n",
       "1    (Linh, Pham)\n",
       "2      (Hibi, vu)\n",
       "dtype: object"
      ]
     },
     "execution_count": 2,
     "metadata": {},
     "output_type": "execute_result"
    }
   ],
   "source": [
    "#list of tuple\n",
    "ten = [('Thong','vu'),('Linh','Pham'),('Hibi','vu')]\n",
    "\n",
    "pd.Series(ten)"
   ]
  },
  {
   "cell_type": "code",
   "execution_count": 3,
   "metadata": {},
   "outputs": [
    {
     "name": "stdout",
     "output_type": "stream",
     "text": [
      "Quang       Di lam suat ngay\n",
      "Linh      Di lam va don Hibi\n",
      "Hibi     Di hoc va choi lego\n",
      "dtype: object\n"
     ]
    },
    {
     "data": {
      "text/plain": [
       "'Di lam suat ngay'"
      ]
     },
     "execution_count": 3,
     "metadata": {},
     "output_type": "execute_result"
    }
   ],
   "source": [
    "viec = {'Quang':'Di lam suat ngay',\n",
    "        'Linh': 'Di lam va don Hibi',\n",
    "        'Hibi':'Di hoc va choi lego'}\n",
    "\n",
    "dic = pd.Series(viec)\n",
    "print(dic)\n",
    "dic['Quang']"
   ]
  },
  {
   "cell_type": "code",
   "execution_count": 4,
   "metadata": {},
   "outputs": [
    {
     "data": {
      "text/plain": [
       "Mommy        linh\n",
       "cuc cung     hibi\n",
       "daddy       Quang\n",
       "dtype: object"
      ]
     },
     "execution_count": 4,
     "metadata": {},
     "output_type": "execute_result"
    }
   ],
   "source": [
    "pd.Series(giadinh, index=['Mommy','cuc cung','daddy'])"
   ]
  },
  {
   "cell_type": "code",
   "execution_count": 5,
   "metadata": {},
   "outputs": [
    {
     "data": {
      "text/plain": [
       "0       vu\n",
       "1    quang\n",
       "2     pham\n",
       "3     None\n",
       "dtype: object"
      ]
     },
     "execution_count": 5,
     "metadata": {},
     "output_type": "execute_result"
    }
   ],
   "source": [
    "thieu = ['vu','quang','pham', None]\n",
    "pd.Series(thieu)"
   ]
  },
  {
   "cell_type": "code",
   "execution_count": 6,
   "metadata": {},
   "outputs": [
    {
     "data": {
      "text/plain": [
       "daddy           lam viec nha\n",
       "hibi      an rau la mung roi\n",
       "coGiao                   NaN\n",
       "mommy      nau an cho ca nha\n",
       "dtype: object"
      ]
     },
     "execution_count": 6,
     "metadata": {},
     "output_type": "execute_result"
    }
   ],
   "source": [
    "#index series nhung data khong ton tai\n",
    "capTuDien = {'daddy':'lam viec nha',\n",
    "             'mommy':'nau an cho ca nha',\n",
    "             'hibi':'an rau la mung roi'}\n",
    "\n",
    "pd.Series(capTuDien, index=['daddy','hibi','coGiao','mommy'])"
   ]
  }
 ],
 "metadata": {
  "interpreter": {
   "hash": "242e8340863f85a096fc7fc383e63bb56c6546b1cbe1b1688029c75b64446d64"
  },
  "kernelspec": {
   "display_name": "Python 3.8.12 64-bit ('base': conda)",
   "language": "python",
   "name": "python3"
  },
  "language_info": {
   "codemirror_mode": {
    "name": "ipython",
    "version": 3
   },
   "file_extension": ".py",
   "mimetype": "text/x-python",
   "name": "python",
   "nbconvert_exporter": "python",
   "pygments_lexer": "ipython3",
   "version": "3.10.2"
  },
  "orig_nbformat": 4
 },
 "nbformat": 4,
 "nbformat_minor": 2
}
