{
 "cells": [
  {
   "cell_type": "code",
   "execution_count": 1,
   "metadata": {},
   "outputs": [
    {
     "name": "stdout",
     "output_type": "stream",
     "text": [
      "tim thay flick\n"
     ]
    }
   ],
   "source": [
    "import re\n",
    "\n",
    "text = '000000206,,London,1879 [1878],S. Tinsley & Co.,Walter Forbes. [A novel.] By A. A,A. A.,\"FORBES, Walter.\",,,monographic,http://www.flickr.com/photos/britishlibrary/tags/sysnum000000206,British Library HMNTS 12641.b.30.'\n",
    "\n",
    "if re.search(\"flickr\", text):\n",
    "    print(\"tim thay flick\")\n",
    "else:\n",
    "    print('khong thay chi ca')"
   ]
  },
  {
   "cell_type": "code",
   "execution_count": 2,
   "metadata": {},
   "outputs": [
    {
     "data": {
      "text/plain": [
       "['000000206',\n",
       " '',\n",
       " 'London',\n",
       " '1879 [1878]',\n",
       " 'S. Tinsley & Co.',\n",
       " 'Walter Forbes. [A novel.] By A. A',\n",
       " 'A. A.',\n",
       " '\"FORBES',\n",
       " ' Walter.\"',\n",
       " '',\n",
       " '',\n",
       " 'monographic',\n",
       " 'http://www.flickr.com/photos/britishlibrary/tags/sysnum000000206',\n",
       " 'British Library HMNTS 12641.b.30.']"
      ]
     },
     "execution_count": 2,
     "metadata": {},
     "output_type": "execute_result"
    }
   ],
   "source": [
    "re.split(',', text)"
   ]
  },
  {
   "cell_type": "code",
   "execution_count": 17,
   "metadata": {},
   "outputs": [
    {
     "data": {
      "text/plain": [
       "[',', ',', ',', ',', ',', ',', ',', ',', ',', ',', ',', ',', ',']"
      ]
     },
     "execution_count": 17,
     "metadata": {},
     "output_type": "execute_result"
    }
   ],
   "source": [
    "timPhay = re.findall(',', text)\n",
    "timPhay"
   ]
  },
  {
   "cell_type": "code",
   "execution_count": 41,
   "metadata": {},
   "outputs": [
    {
     "name": "stdout",
     "output_type": "stream",
     "text": [
      "<re.Match object; span=(0, 2), match='00'>\n"
     ]
    }
   ],
   "source": [
    "dau = re.search(r\"^00\", text)\n",
    "print(dau)"
   ]
  },
  {
   "cell_type": "code",
   "execution_count": 40,
   "metadata": {},
   "outputs": [
    {
     "name": "stdout",
     "output_type": "stream",
     "text": [
      "<re.Match object; span=(214, 217), match='30.'>\n"
     ]
    }
   ],
   "source": [
    "cuoiDong = re.search(r\"30.$\", text)\n",
    "print(cuoiDong)\n"
   ]
  },
  {
   "cell_type": "code",
   "execution_count": 49,
   "metadata": {},
   "outputs": [
    {
     "data": {
      "text/plain": [
       "['on', 'on', 'ey', 'on']"
      ]
     },
     "execution_count": 49,
     "metadata": {},
     "output_type": "execute_result"
    }
   ],
   "source": [
    "#tim cap tu voi or - |\n",
    "re.findall(\"ey|on\", text)"
   ]
  },
  {
   "cell_type": "code",
   "execution_count": 53,
   "metadata": {},
   "outputs": [
    {
     "data": {
      "text/plain": [
       "[',',\n",
       " ',',\n",
       " ',',\n",
       " '[',\n",
       " ']',\n",
       " ',',\n",
       " '.',\n",
       " '&',\n",
       " '.',\n",
       " ',',\n",
       " '.',\n",
       " '[',\n",
       " '.',\n",
       " ']',\n",
       " '.',\n",
       " ',',\n",
       " '.',\n",
       " '.',\n",
       " ',',\n",
       " '\"',\n",
       " ',',\n",
       " '.',\n",
       " '\"',\n",
       " ',',\n",
       " ',',\n",
       " ',',\n",
       " ',',\n",
       " ':',\n",
       " '/',\n",
       " '/',\n",
       " '.',\n",
       " '.',\n",
       " '/',\n",
       " '/',\n",
       " '/',\n",
       " '/',\n",
       " ',',\n",
       " '.',\n",
       " '.',\n",
       " '.']"
      ]
     },
     "execution_count": 53,
     "metadata": {},
     "output_type": "execute_result"
    }
   ],
   "source": [
    "#tim ki tu khong phai la so hoac chu cai\n",
    "\n",
    "re.findall(\"[^0-9 A-Z a-z]\", text)"
   ]
  },
  {
   "cell_type": "code",
   "execution_count": 68,
   "metadata": {},
   "outputs": [
    {
     "name": "stdout",
     "output_type": "stream",
     "text": [
      "[',,', ',,,']\n",
      "['000000', '000000']\n"
     ]
    }
   ],
   "source": [
    "#quantifiers : e{m,n} e-expression, m-minimum time it matched, n-maximum time it machech\n",
    "\n",
    "phay = re.findall(\",{2,8}\", text)\n",
    "\n",
    "print(phay)\n",
    "khong = re.findall('0{2,9}',text)\n",
    "print(khong)"
   ]
  },
  {
   "cell_type": "code",
   "execution_count": 81,
   "metadata": {},
   "outputs": [
    {
     "data": {
      "text/plain": [
       "['Access to public records [edit]', 'Student medical records [edit]']"
      ]
     },
     "execution_count": 81,
     "metadata": {},
     "output_type": "execute_result"
    }
   ],
   "source": [
    "with open(\"wiki.txt\",'r') as tap:\n",
    "    wiki = tap.read()\n",
    "\n",
    "#wiki\n",
    "re.findall('[a-z A-Z]{1,100} \\[edit\\]', wiki)\n",
    "# backslash-\\ is escape character, --chu y -- neu khong co whitespace o giua a-z A-Z thi se cho ra ket qua khac"
   ]
  },
  {
   "cell_type": "code",
   "execution_count": 94,
   "metadata": {},
   "outputs": [
    {
     "data": {
      "text/plain": [
       "['records [edit]', 'records [edit]']"
      ]
     },
     "execution_count": 94,
     "metadata": {},
     "output_type": "execute_result"
    }
   ],
   "source": [
    "# \\w matches any letter include digits and numbers\n",
    "re.findall(\"[\\w]{1,100} \\[edit\\]\", wiki)\n",
    "#khoang trang o truoc edit"
   ]
  },
  {
   "cell_type": "code",
   "execution_count": 99,
   "metadata": {},
   "outputs": [
    {
     "data": {
      "text/plain": [
       "['records [edit]', 'records [edit]']"
      ]
     },
     "execution_count": 99,
     "metadata": {},
     "output_type": "execute_result"
    }
   ],
   "source": [
    "re.findall(\"[\\w]* \\[edit\\]\", wiki)"
   ]
  },
  {
   "cell_type": "code",
   "execution_count": 100,
   "metadata": {},
   "outputs": [
    {
     "data": {
      "text/plain": [
       "['Access to public records [edit]', 'Student medical records [edit]']"
      ]
     },
     "execution_count": 100,
     "metadata": {},
     "output_type": "execute_result"
    }
   ],
   "source": [
    "re.findall(\"[\\w ]* \\[edit\\]\", wiki)\n",
    "#co khoang trang sau \\w"
   ]
  },
  {
   "cell_type": "code",
   "execution_count": 114,
   "metadata": {},
   "outputs": [
    {
     "name": "stdout",
     "output_type": "stream",
     "text": [
      "Access to public records \n",
      "Student medical records \n"
     ]
    }
   ],
   "source": [
    "# tach edit va lay tieu de\n",
    "rawTieuDe = re.findall('[\\w ]*\\[edit\\]', wiki)\n",
    "#rawTieuDe\n",
    "for tieude in rawTieuDe:\n",
    "    lay = re.split('\\[',tieude)[0]\n",
    "    print(lay)"
   ]
  },
  {
   "cell_type": "code",
   "execution_count": 118,
   "metadata": {},
   "outputs": [
    {
     "data": {
      "text/plain": [
       "[('Access to public records ', '[edit]'),\n",
       " ('Student medical records ', '[edit]')]"
      ]
     },
     "execution_count": 118,
     "metadata": {},
     "output_type": "execute_result"
    }
   ],
   "source": [
    "#we can group patterns in parentheses\n",
    "re.findall(\"([\\w ]*)(\\[edit\\])\", wiki)"
   ]
  },
  {
   "cell_type": "code",
   "execution_count": 120,
   "metadata": {},
   "outputs": [
    {
     "name": "stdout",
     "output_type": "stream",
     "text": [
      "Access to public records \n",
      "Student medical records \n"
     ]
    }
   ],
   "source": [
    "#if we use ----- finditer() -----, we get back a list of match object and can get item by group(number)\n",
    "chay = re.finditer(\"([\\w ]*)(\\[edit\\])\", wiki)\n",
    "\n",
    "for item in chay:\n",
    "    print(item.group(1))"
   ]
  },
  {
   "cell_type": "code",
   "execution_count": 125,
   "metadata": {},
   "outputs": [
    {
     "name": "stdout",
     "output_type": "stream",
     "text": [
      "Access to public records \n",
      "Student medical records \n"
     ]
    }
   ],
   "source": [
    "#or we can use labeling or naming groups\n",
    "#syntax (?P<name>) where parentheses start the group, ?P is an extension basic regexes, <name> is dictionary key wrapped in\n",
    "for item in re.finditer('(?P<Title>[\\w ]*)(?P<Sualai_link>\\[edit\\])', wiki):\n",
    "    print(item.groupdict()['Title'])"
   ]
  },
  {
   "cell_type": "code",
   "execution_count": 179,
   "metadata": {},
   "outputs": [
    {
     "data": {
      "text/plain": [
       "'There are several Buddhist universities in the United States. Some of these have existed for decades and are accredited. Others are relatively new and are either in the process of being accredited or else have no formal accreditation. The list includes:\\n#ebola  http//:;ajnb34#covid19  ...,,@#DeltaVariant ????\\nDhammakaya Open University - located in Azusa, California, part of the Thai Wat Phra Dhammakaya[1]\\nDharmakirti College - located in Tucson, Arizona Now called Awam Tibetan Buddhist Institute (http://awaminstitute.org/)\\nDharma Realm Buddhist University - located in Ukiah, California (Accredited by the WASC Senior College and University Commission)\\nEwam Buddhist Institute - located in Arlee, Montana\\nNaropa University is located in Boulder, Colorado (Accredited by the Higher Learning Commission)\\nInstitute of Buddhist Studies - located in Berkeley, California\\nMaitripa College - located in Portland, Oregon\\nSoka University of America - located in Aliso Viejo, California\\nUniversity of the West - located in Rosemead, California (Accredited by the WASC Senior College and University Commission)\\nWon Institute of Graduate Studies - located in Glenside, Pennsylvania'"
      ]
     },
     "execution_count": 179,
     "metadata": {},
     "output_type": "execute_result"
    }
   ],
   "source": [
    "with open('truongphat.txt','r') as truong:\n",
    "    file = truong.read()\n",
    "file"
   ]
  },
  {
   "cell_type": "code",
   "execution_count": 153,
   "metadata": {},
   "outputs": [
    {
     "name": "stdout",
     "output_type": "stream",
     "text": [
      "{'DaiHoc': 'Dhammakaya Open University ', 'ThanhPho': 'Azusa', 'Bang': 'California'}\n",
      "{'DaiHoc': 'Dharmakirti College ', 'ThanhPho': 'Tucson', 'Bang': 'Arizona'}\n",
      "{'DaiHoc': 'Dharma Realm Buddhist University ', 'ThanhPho': 'Ukiah', 'Bang': 'California'}\n",
      "{'DaiHoc': 'Ewam Buddhist Institute ', 'ThanhPho': 'Arlee', 'Bang': 'Montana'}\n",
      "{'DaiHoc': 'Institute of Buddhist Studies ', 'ThanhPho': 'Berkeley', 'Bang': 'California'}\n",
      "{'DaiHoc': 'Maitripa College ', 'ThanhPho': 'Portland', 'Bang': 'Oregon'}\n",
      "{'DaiHoc': 'University of the West ', 'ThanhPho': 'Rosemead', 'Bang': 'California'}\n",
      "{'DaiHoc': 'Won Institute of Graduate Studies ', 'ThanhPho': 'Glenside', 'Bang': 'Pennsylvania'}\n"
     ]
    }
   ],
   "source": [
    "# re.VERBOSE\n",
    "\n",
    "mauTim = '''\n",
    "(?P<DaiHoc>.+)  #muc ten cua truong\n",
    "(-\\ located\\ in\\ )  #noi truong\n",
    "(?P<ThanhPho>\\w+)\n",
    "(,\\ )\n",
    "(?P<Bang>\\w*) #neu su dung wildcard . se cho ra nhieu chu sau ten tieu bang\n",
    "'''\n",
    "for item in re.finditer(mauTim,file,re.VERBOSE):\n",
    "    print(item.groupdict())"
   ]
  },
  {
   "cell_type": "code",
   "execution_count": 181,
   "metadata": {},
   "outputs": [
    {
     "data": {
      "text/plain": [
       "['#ebola', '#covid19', '#DeltaVariant']"
      ]
     },
     "execution_count": 181,
     "metadata": {},
     "output_type": "execute_result"
    }
   ],
   "source": [
    "mau = '#[a-zA-Z0-9]+(?=\\s)'\n",
    "hoac = '#[\\w\\d]+(?=\\s)'\n",
    "re.findall(mau,file)\n",
    "    "
   ]
  }
 ],
 "metadata": {
  "interpreter": {
   "hash": "242e8340863f85a096fc7fc383e63bb56c6546b1cbe1b1688029c75b64446d64"
  },
  "kernelspec": {
   "display_name": "Python 3.8.8 64-bit ('base': conda)",
   "language": "python",
   "name": "python3"
  },
  "language_info": {
   "codemirror_mode": {
    "name": "ipython",
    "version": 3
   },
   "file_extension": ".py",
   "mimetype": "text/x-python",
   "name": "python",
   "nbconvert_exporter": "python",
   "pygments_lexer": "ipython3",
   "version": "3.8.12"
  },
  "orig_nbformat": 4
 },
 "nbformat": 4,
 "nbformat_minor": 2
}
