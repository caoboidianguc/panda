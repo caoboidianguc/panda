{
 "cells": [
  {
   "cell_type": "markdown",
   "metadata": {},
   "source": []
  },
  {
   "cell_type": "code",
   "execution_count": 1,
   "metadata": {},
   "outputs": [],
   "source": [
    "import numpy as np\n",
    "import math"
   ]
  },
  {
   "cell_type": "code",
   "execution_count": null,
   "metadata": {},
   "outputs": [],
   "source": [
    "a = np.array([[1,3,4,5],[4,6,7,8],[3,8,9,4]])\n",
    "print(a)\n",
    "print(a.ndim)\n",
    "a.shape"
   ]
  },
  {
   "cell_type": "code",
   "execution_count": null,
   "metadata": {},
   "outputs": [],
   "source": [
    "zero = np.zeros((3,5))\n",
    "print(zero)\n",
    "\n",
    "one = np.ones((5,3))\n",
    "print(one)"
   ]
  },
  {
   "cell_type": "code",
   "execution_count": 2,
   "metadata": {},
   "outputs": [
    {
     "data": {
      "text/plain": [
       "array([[0.345487  , 0.23860464, 0.38329343, 0.68667379],\n",
       "       [0.11820097, 0.2961868 , 0.65989151, 0.50760424],\n",
       "       [0.49681666, 0.003299  , 0.429779  , 0.82387164]])"
      ]
     },
     "execution_count": 2,
     "metadata": {},
     "output_type": "execute_result"
    }
   ],
   "source": [
    "np.random.rand(3,4)"
   ]
  },
  {
   "cell_type": "code",
   "execution_count": 3,
   "metadata": {},
   "outputs": [
    {
     "data": {
      "text/plain": [
       "array([ 8, 10, 12, 14, 16, 18, 20, 22, 24, 26, 28, 30, 32, 34, 36, 38, 40,\n",
       "       42, 44, 46, 48])"
      ]
     },
     "execution_count": 3,
     "metadata": {},
     "output_type": "execute_result"
    }
   ],
   "source": [
    "#generate a sequence of number array\n",
    "sequence = np.arange(8,50,2)\n",
    "#start at 8 to 50, 2 is the diferrence bettween\n",
    "sequence"
   ]
  },
  {
   "cell_type": "code",
   "execution_count": null,
   "metadata": {},
   "outputs": [],
   "source": [
    "#with float generator is difference, the third number is the total items we want in array\n",
    "floatnumber = np.linspace(4,7,8)\n",
    "floatnumber"
   ]
  },
  {
   "cell_type": "code",
   "execution_count": null,
   "metadata": {},
   "outputs": [],
   "source": [
    "\n",
    "floatnumber %2 == 0\n"
   ]
  },
  {
   "cell_type": "code",
   "execution_count": null,
   "metadata": {},
   "outputs": [],
   "source": [
    "floatnumber < 5"
   ]
  },
  {
   "cell_type": "code",
   "execution_count": null,
   "metadata": {},
   "outputs": [],
   "source": [
    "#hadamard product or elementwise product if we want to use it, do with the * sign\n",
    "matrix1 = np.array([[2,1],[3,2]])\n",
    "matrix2 = np.array([[0,2],[6,5]])\n",
    "print(matrix1*matrix2)"
   ]
  },
  {
   "cell_type": "code",
   "execution_count": null,
   "metadata": {},
   "outputs": [],
   "source": [
    "#if we want to do matrix product, do with @ sign or use dot function\n",
    "#2*0 + 1*6 = 6, 2*2 + 1*5 = 9\n",
    "#3*0 + 2*6 = 12, 3*2 + 2*5 = 16\n",
    "\n",
    "print(matrix1@matrix2)\n",
    "matrix1.dtype"
   ]
  },
  {
   "cell_type": "code",
   "execution_count": null,
   "metadata": {},
   "outputs": [],
   "source": [
    "print(matrix1.min())\n",
    "print(matrix1.max())\n",
    "print(matrix1.sum())\n",
    "print(matrix1.mean())"
   ]
  },
  {
   "cell_type": "code",
   "execution_count": null,
   "metadata": {},
   "outputs": [],
   "source": [
    "b = np.arange(1,16,1).reshape(3,5)\n",
    "b"
   ]
  },
  {
   "cell_type": "code",
   "execution_count": null,
   "metadata": {},
   "outputs": [],
   "source": [
    "from PIL import Image\n",
    "from IPython.display import display\n",
    "tho = Image.open('thong.jpg')\n",
    "display(tho)"
   ]
  },
  {
   "cell_type": "code",
   "execution_count": null,
   "metadata": {},
   "outputs": [],
   "source": [
    "hinhso = np.array(tho)\n",
    "print(hinhso.shape)\n",
    "hinhso"
   ]
  },
  {
   "cell_type": "code",
   "execution_count": null,
   "metadata": {},
   "outputs": [],
   "source": [
    "mask = np.full(hinhso.shape,255)\n",
    "\n",
    "thaydoi = mask - hinhso\n",
    "thaydoi = thaydoi.astype(np.uint8)\n",
    "print(thaydoi)"
   ]
  },
  {
   "cell_type": "code",
   "execution_count": null,
   "metadata": {},
   "outputs": [],
   "source": [
    "display(Image.fromarray(thaydoi))"
   ]
  },
  {
   "cell_type": "code",
   "execution_count": null,
   "metadata": {},
   "outputs": [],
   "source": [
    "#indexing\n",
    "print(thaydoi[thaydoi > 200])\n",
    "print(thaydoi[2,4])"
   ]
  },
  {
   "cell_type": "code",
   "execution_count": null,
   "metadata": {},
   "outputs": [],
   "source": [
    "#slicing\n",
    "cat = np.array([[12,1,3,4],[11,5,6,7],[9,13,45,67]])\n",
    "print(cat)\n",
    "#first argument selecting rows, the second selecting columns\n",
    "inde = cat[:2, 1:3]\n",
    "inde"
   ]
  },
  {
   "cell_type": "code",
   "execution_count": null,
   "metadata": {},
   "outputs": [],
   "source": [
    "import pandas as pd\n",
    "import numpy as np\n",
    "\n",
    "tin = np.genfromtxt('Messages.csv', dtype=None,delimiter=';', skip_header=1, names=('Date','Time', 'Destination', 'Number','Direction','Type'))\n",
    "tin[:12]\n",
    "    "
   ]
  },
  {
   "cell_type": "code",
   "execution_count": null,
   "metadata": {},
   "outputs": [],
   "source": [
    "\n",
    "sach = pd.read_csv('book.csv')\n",
    "sach['Title'][:13]\n",
    "twocolumn = sach[['Title', 'Flickr URL']][:10]\n",
    "twocolumn"
   ]
  },
  {
   "cell_type": "code",
   "execution_count": null,
   "metadata": {},
   "outputs": [],
   "source": [
    "huychuong = np.genfromtxt('olympics.csv',dtype=None, delimiter=',',skip_header=2, usecols=(0,-1))\n",
    "                          \n",
    "huychuong\n"
   ]
  }
 ],
 "metadata": {
  "interpreter": {
   "hash": "5faf2ed34fbb45e26baa0f372a24002beff7ff8e67f8604404696c63f165c047"
  },
  "kernelspec": {
   "display_name": "Python 3.10.0 64-bit",
   "language": "python",
   "name": "python3"
  },
  "language_info": {
   "codemirror_mode": {
    "name": "ipython",
    "version": 3
   },
   "file_extension": ".py",
   "mimetype": "text/x-python",
   "name": "python",
   "nbconvert_exporter": "python",
   "pygments_lexer": "ipython3",
   "version": "3.8.12"
  },
  "orig_nbformat": 4
 },
 "nbformat": 4,
 "nbformat_minor": 2
}
