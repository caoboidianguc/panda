{
 "cells": [
  {
   "cell_type": "code",
   "execution_count": 1,
   "metadata": {},
   "outputs": [
    {
     "name": "stdout",
     "output_type": "stream",
     "text": [
      "['bat', 'bot']\n"
     ]
    }
   ],
   "source": [
    "import re\n",
    "str = 'bat, bot, lat let, mot'\n",
    "ket = re.findall('b[ao]t', str)\n",
    "\n",
    "print(ket)\n"
   ]
  },
  {
   "cell_type": "code",
   "execution_count": 2,
   "metadata": {},
   "outputs": [
    {
     "name": "stdout",
     "output_type": "stream",
     "text": [
      "[0.3213646  0.07140882 0.71840073 0.5707626 ]\n",
      "(4,)\n",
      "--2----------------\n",
      "[[0.34247086]\n",
      " [0.06110002]\n",
      " [0.1203435 ]\n",
      " [0.97668928]]\n",
      "(4, 1)\n",
      "--3----------------\n",
      "[[1 2 3 4]]\n",
      "(1, 4)\n",
      "--4----------------\n",
      "[1 2 3]\n",
      "(3,)\n",
      "--5----------------\n",
      "[1. 2. 3. 4.]\n",
      "(4,)\n"
     ]
    }
   ],
   "source": [
    "import numpy as np\n",
    "\n",
    "a1 = np.random.rand(4)\n",
    "a2 = np.random.rand(4,1)\n",
    "a3 = np.array([[1,2,3,4]])\n",
    "a4 = np.arange(1,4,1)\n",
    "a5 = np.linspace(1 ,4,4)\n",
    "\n",
    "\n",
    "print(a1)\n",
    "print(a1.shape)\n",
    "print('--2----------------')\n",
    "print(a2)\n",
    "print(a2.shape)\n",
    "print('--3----------------')\n",
    "print(a3)\n",
    "print(a3.shape)\n",
    "print('--4----------------')\n",
    "print(a4)\n",
    "print(a4.shape)\n",
    "print('--5----------------')\n",
    "print(a5)\n",
    "print(a5.shape)"
   ]
  },
  {
   "cell_type": "code",
   "execution_count": 20,
   "metadata": {},
   "outputs": [
    {
     "name": "stdout",
     "output_type": "stream",
     "text": [
      "[[0 0 1]\n",
      " [1 1 1]]\n"
     ]
    }
   ],
   "source": [
    "old = np.array([[1,1,1],[1,1,1]])\n",
    "new = old\n",
    "new[0, :2] = 0\n",
    "print(old)\n"
   ]
  },
  {
   "cell_type": "code",
   "execution_count": 30,
   "metadata": {},
   "outputs": [
    {
     "name": "stdout",
     "output_type": "stream",
     "text": [
      "[[0.04905177 0.5631922  0.17647363 0.6255869  0.76525089 0.5512011 ]\n",
      " [0.18981687 0.64012699 0.27810802 0.7108157  0.83085727 0.9335549 ]\n",
      " [0.93662824 0.40020186 0.52684965 0.77481399 0.80029898 0.42657508]\n",
      " [0.04066798 0.2115935  0.96042168 0.03290465 0.21809374 0.67140867]\n",
      " [0.63987624 0.9089039  0.36985967 0.08315256 0.16530975 0.8350522 ]\n",
      " [0.85677182 0.1100031  0.87353846 0.5340332  0.62185554 0.97280974]]\n",
      "ketqua\n",
      "[[0.52684965 0.77481399]\n",
      " [0.96042168 0.03290465]]\n"
     ]
    }
   ],
   "source": [
    "r = np.random.rand(6,6)\n",
    "print(r)\n",
    "print('ketqua')\n",
    "print(r[2:4,2:4])\n"
   ]
  },
  {
   "cell_type": "code",
   "execution_count": 31,
   "metadata": {},
   "outputs": [
    {
     "data": {
      "text/plain": [
       "['AC']"
      ]
     },
     "execution_count": 31,
     "metadata": {},
     "output_type": "execute_result"
    }
   ],
   "source": [
    "s = 'ACBCAC'\n",
    "re.findall('^AC', s)"
   ]
  },
  {
   "cell_type": "code",
   "execution_count": 5,
   "metadata": {},
   "outputs": [
    {
     "name": "stdout",
     "output_type": "stream",
     "text": [
      "['A', 'AA', 'AA', 'AA', 'A']\n",
      "5\n"
     ]
    }
   ],
   "source": [
    "c = 'ACAABAACAAAB'\n",
    "tim = re.findall('A{1,2}',c)\n",
    "print(tim)\n",
    "le = len(tim)\n",
    "print(le)\n"
   ]
  },
  {
   "cell_type": "code",
   "execution_count": 8,
   "metadata": {},
   "outputs": [
    {
     "name": "stdout",
     "output_type": "stream",
     "text": [
      "['(803) 262-8775', '(803) 999-7642', '(803) 777-1424']\n"
     ]
    }
   ],
   "source": [
    "phone = 'so phone (803) 262-8775, (803) 999-7642.... ,,, lungtung(803) 777-1424het'\n",
    "so = re.findall('[(]\\d{3}[)]\\s\\d{3}[-]\\d{4}',phone)\n",
    "print(so)"
   ]
  },
  {
   "cell_type": "code",
   "execution_count": 31,
   "metadata": {},
   "outputs": [
    {
     "name": "stdout",
     "output_type": "stream",
     "text": [
      "['www.google.com', 'www.baidi.com', 'www.google.com']\n",
      "Mo Rong\n",
      "['www.google.com/', 'www.baidi.com', 'www.google.com/doodles/janaina']\n"
     ]
    }
   ],
   "source": [
    "duong = 'lay duong dan https://www.google.com/ roi tiep https://www.baidi.com, https://www.google.com/doodles/janaina-dutras-61st-birthday crazy day'\n",
    "#cau lenh lookbehind (?<=) de tim chu ngay sau no va khong gom no trong ket qua\n",
    "coban = re.findall('(?<=https:\\/\\/)([A-Za-z0-9.]*)',duong)\n",
    "print(coban)\n",
    "#khongDung = re.findall('(?<=https:\\/\\/)([\\d.]*)',duong)\n",
    "#mo rong them hai dau hoi ?/? de them tuy chon gach cheo / co the co hoac khong \n",
    "morong = re.findall('(?<=https:\\/\\/)([A-Za-z0-9.?/?]*)',duong)\n",
    "print(\"Mo Rong\")\n",
    "print(morong)\n",
    "\n",
    "#minh chua thu tim /\n",
    " "
   ]
  }
 ],
 "metadata": {
  "interpreter": {
   "hash": "242e8340863f85a096fc7fc383e63bb56c6546b1cbe1b1688029c75b64446d64"
  },
  "kernelspec": {
   "display_name": "Python 3.8.8 64-bit ('base': conda)",
   "language": "python",
   "name": "python3"
  },
  "language_info": {
   "codemirror_mode": {
    "name": "ipython",
    "version": 3
   },
   "file_extension": ".py",
   "mimetype": "text/x-python",
   "name": "python",
   "nbconvert_exporter": "python",
   "pygments_lexer": "ipython3",
   "version": "3.8.12"
  },
  "orig_nbformat": 4
 },
 "nbformat": 4,
 "nbformat_minor": 2
}
