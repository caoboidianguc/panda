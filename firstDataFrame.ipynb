{
 "cells": [
  {
   "cell_type": "code",
   "execution_count": 22,
   "metadata": {},
   "outputs": [],
   "source": [
    "import pandas as pd"
   ]
  },
  {
   "cell_type": "code",
   "execution_count": 25,
   "metadata": {},
   "outputs": [
    {
     "data": {
      "text/html": [
       "<div>\n",
       "<style scoped>\n",
       "    .dataframe tbody tr th:only-of-type {\n",
       "        vertical-align: middle;\n",
       "    }\n",
       "\n",
       "    .dataframe tbody tr th {\n",
       "        vertical-align: top;\n",
       "    }\n",
       "\n",
       "    .dataframe thead th {\n",
       "        text-align: right;\n",
       "    }\n",
       "</style>\n",
       "<table border=\"1\" class=\"dataframe\">\n",
       "  <thead>\n",
       "    <tr style=\"text-align: right;\">\n",
       "      <th></th>\n",
       "      <th>ten</th>\n",
       "      <th>nghe</th>\n",
       "      <th>trinh do</th>\n",
       "    </tr>\n",
       "  </thead>\n",
       "  <tbody>\n",
       "    <tr>\n",
       "      <th>thanh vien 1</th>\n",
       "      <td>Hibi</td>\n",
       "      <td>hoc sinh</td>\n",
       "      <td>kingdergaten</td>\n",
       "    </tr>\n",
       "    <tr>\n",
       "      <th>tiep theo</th>\n",
       "      <td>Quang</td>\n",
       "      <td>cat co</td>\n",
       "      <td>hoc do dang</td>\n",
       "    </tr>\n",
       "    <tr>\n",
       "      <th>ke tiep</th>\n",
       "      <td>Thong</td>\n",
       "      <td>hoc bai</td>\n",
       "      <td>chua chuyen nghiep</td>\n",
       "    </tr>\n",
       "    <tr>\n",
       "      <th>cuoi</th>\n",
       "      <td>Pham</td>\n",
       "      <td>lam viec nha</td>\n",
       "      <td>chuyen nghiep</td>\n",
       "    </tr>\n",
       "  </tbody>\n",
       "</table>\n",
       "</div>"
      ],
      "text/plain": [
       "                ten          nghe            trinh do\n",
       "thanh vien 1   Hibi      hoc sinh        kingdergaten\n",
       "tiep theo     Quang        cat co         hoc do dang\n",
       "ke tiep       Thong       hoc bai  chua chuyen nghiep\n",
       "cuoi           Pham  lam viec nha       chuyen nghiep"
      ]
     },
     "execution_count": 25,
     "metadata": {},
     "output_type": "execute_result"
    }
   ],
   "source": [
    "mau = [{'ten':'Hibi',\n",
    "        'nghe':'hoc sinh',\n",
    "        'trinh do':'kingdergaten'},{\n",
    "        'ten':'Quang',\n",
    "        'nghe':'cat co',\n",
    "        'trinh do':'hoc do dang'},{\n",
    "        'ten':'Thong',\n",
    "        'nghe':'hoc bai',\n",
    "        'trinh do':'chua chuyen nghiep'},{\n",
    "        'ten':'Pham',\n",
    "        'nghe':'lam viec nha',\n",
    "        'trinh do':'chuyen nghiep'}]\n",
    "\n",
    "dulieu = pd.DataFrame(mau, index=['thanh vien 1', 'tiep theo', 'ke tiep','cuoi'])\n",
    "dulieu"
   ]
  },
  {
   "cell_type": "code",
   "execution_count": null,
   "metadata": {},
   "outputs": [],
   "source": [
    "dulieu.loc['thanh vien 1']"
   ]
  },
  {
   "cell_type": "code",
   "execution_count": 28,
   "metadata": {},
   "outputs": [
    {
     "data": {
      "text/html": [
       "<div>\n",
       "<style scoped>\n",
       "    .dataframe tbody tr th:only-of-type {\n",
       "        vertical-align: middle;\n",
       "    }\n",
       "\n",
       "    .dataframe tbody tr th {\n",
       "        vertical-align: top;\n",
       "    }\n",
       "\n",
       "    .dataframe thead th {\n",
       "        text-align: right;\n",
       "    }\n",
       "</style>\n",
       "<table border=\"1\" class=\"dataframe\">\n",
       "  <thead>\n",
       "    <tr style=\"text-align: right;\">\n",
       "      <th></th>\n",
       "      <th>ten</th>\n",
       "      <th>nghe</th>\n",
       "      <th>trinh do</th>\n",
       "      <th>viec phu</th>\n",
       "    </tr>\n",
       "  </thead>\n",
       "  <tbody>\n",
       "    <tr>\n",
       "      <th>thanh vien 1</th>\n",
       "      <td>Hibi</td>\n",
       "      <td>hoc sinh</td>\n",
       "      <td>kingdergaten</td>\n",
       "      <td>lego</td>\n",
       "    </tr>\n",
       "    <tr>\n",
       "      <th>tiep theo</th>\n",
       "      <td>Quang</td>\n",
       "      <td>cat co</td>\n",
       "      <td>hoc do dang</td>\n",
       "      <td>cham soc</td>\n",
       "    </tr>\n",
       "    <tr>\n",
       "      <th>ke tiep</th>\n",
       "      <td>Thong</td>\n",
       "      <td>hoc bai</td>\n",
       "      <td>chua chuyen nghiep</td>\n",
       "      <td>doc sach</td>\n",
       "    </tr>\n",
       "    <tr>\n",
       "      <th>cuoi</th>\n",
       "      <td>Pham</td>\n",
       "      <td>lam viec nha</td>\n",
       "      <td>chuyen nghiep</td>\n",
       "      <td>nau com</td>\n",
       "    </tr>\n",
       "  </tbody>\n",
       "</table>\n",
       "</div>"
      ],
      "text/plain": [
       "                ten          nghe            trinh do  viec phu\n",
       "thanh vien 1   Hibi      hoc sinh        kingdergaten      lego\n",
       "tiep theo     Quang        cat co         hoc do dang  cham soc\n",
       "ke tiep       Thong       hoc bai  chua chuyen nghiep  doc sach\n",
       "cuoi           Pham  lam viec nha       chuyen nghiep   nau com"
      ]
     },
     "execution_count": 28,
     "metadata": {},
     "output_type": "execute_result"
    }
   ],
   "source": [
    "#them columns\n",
    "dulieu['viec phu'] = ['lego','cham soc','doc sach','nau com']\n",
    "dulieu"
   ]
  }
 ],
 "metadata": {
  "interpreter": {
   "hash": "242e8340863f85a096fc7fc383e63bb56c6546b1cbe1b1688029c75b64446d64"
  },
  "kernelspec": {
   "display_name": "Python 3.8.12 64-bit ('base': conda)",
   "language": "python",
   "name": "python3"
  },
  "language_info": {
   "codemirror_mode": {
    "name": "ipython",
    "version": 3
   },
   "file_extension": ".py",
   "mimetype": "text/x-python",
   "name": "python",
   "nbconvert_exporter": "python",
   "pygments_lexer": "ipython3",
   "version": "3.8.12"
  },
  "orig_nbformat": 4
 },
 "nbformat": 4,
 "nbformat_minor": 2
}
